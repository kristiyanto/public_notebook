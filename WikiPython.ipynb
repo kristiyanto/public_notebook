{
 "cells": [
  {
   "cell_type": "markdown",
   "metadata": {},
   "source": [
    "# Q1. When was the article about the Panama Papers created?\n"
   ]
  },
  {
   "cell_type": "code",
   "execution_count": 120,
   "metadata": {
    "collapsed": false
   },
   "outputs": [
    {
     "ename": "KeyError",
     "evalue": "'query'",
     "output_type": "error",
     "traceback": [
      "\u001b[1;31m---------------------------------------------------------------------------\u001b[0m",
      "\u001b[1;31mKeyError\u001b[0m                                  Traceback (most recent call last)",
      "\u001b[1;32m<ipython-input-120-f133f5908693>\u001b[0m in \u001b[0;36m<module>\u001b[1;34m()\u001b[0m\n\u001b[0;32m     16\u001b[0m \u001b[1;33m\u001b[0m\u001b[0m\n\u001b[0;32m     17\u001b[0m \u001b[0mresponse\u001b[0m \u001b[1;33m=\u001b[0m \u001b[0mwp_call\u001b[0m\u001b[1;33m.\u001b[0m\u001b[0mjson\u001b[0m\u001b[1;33m(\u001b[0m\u001b[1;33m)\u001b[0m\u001b[1;33m\u001b[0m\u001b[0m\n\u001b[1;32m---> 18\u001b[1;33m \u001b[0mquery\u001b[0m \u001b[1;33m=\u001b[0m \u001b[0mresponse\u001b[0m\u001b[1;33m[\u001b[0m\u001b[1;34m'query'\u001b[0m\u001b[1;33m]\u001b[0m\u001b[1;33m\u001b[0m\u001b[0m\n\u001b[0m\u001b[0;32m     19\u001b[0m \u001b[0mpages\u001b[0m \u001b[1;33m=\u001b[0m \u001b[0mquery\u001b[0m\u001b[1;33m[\u001b[0m\u001b[1;34m'pages'\u001b[0m\u001b[1;33m]\u001b[0m\u001b[1;33m\u001b[0m\u001b[0m\n\u001b[0;32m     20\u001b[0m \u001b[1;33m\u001b[0m\u001b[0m\n",
      "\u001b[1;31mKeyError\u001b[0m: 'query'"
     ]
    }
   ],
   "source": [
    "import requests\n",
    "\n",
    "ENDPOINT = 'https://en.wikipedia.org/w/api.php'\n",
    "\n",
    "page_title = 'Panama_Papers'\n",
    "\n",
    "parameters = { 'action' : 'query',\n",
    "               'prop' : 'recentchanges',\n",
    "               'titles' : page_title,\n",
    "               'format' : 'json',\n",
    "               'rvlimit' : 1,\n",
    "               'rvdir' : 'newer',\n",
    "               'continue' : '' }\n",
    "\n",
    "wp_call = requests.get(ENDPOINT, params=parameters)\n",
    "\n",
    "response = wp_call.json()\n",
    "query = response['query']\n",
    "pages = query['pages']\n",
    "\n",
    "page_keys = list(pages.keys())\n",
    "page_key = page_keys[0]\n",
    "page = pages[page_key]\n",
    "revisions = page['revisions']\n",
    "\n",
    "# we only asked for one revision\n",
    "revision = revisions[0]\n",
    "last_revision = revisions[-1]\n",
    "revid = revision['revid']\n",
    "last_revid = last_revision['revid']\n",
    "revuser = revision['user']\n",
    "last_revuser = last_revision['user']\n",
    "revdate = revision['timestamp']\n",
    "last_revdate = last_revision['timestamp']\n",
    "title = page['title']\n"
   ]
  },
  {
   "cell_type": "code",
   "execution_count": 121,
   "metadata": {
    "collapsed": false
   },
   "outputs": [
    {
     "data": {
      "text/plain": [
       "{'batchcomplete': ''}"
      ]
     },
     "execution_count": 121,
     "metadata": {},
     "output_type": "execute_result"
    }
   ],
   "source": [
    "response"
   ]
  },
  {
   "cell_type": "code",
   "execution_count": 93,
   "metadata": {
    "collapsed": false,
    "scrolled": true
   },
   "outputs": [
    {
     "name": "stdout",
     "output_type": "stream",
     "text": [
      "First edit to Panama Papers was revision ID 713378731 by Czar on 2016-04-03T17:59:05Z\n",
      "Last edit to Panama Papers was revision ID 713378731 by revuser Czar on 2016-04-03T17:59:05Z\n"
     ]
    }
   ],
   "source": [
    "print('First edit to ' + title + ' was revision ID ' + str(revid) + ' by ' + revuser + ' on ' + revdate)\n",
    "\n",
    "print(\"Last edit to {} was revision ID {} by revuser {} on {}\".format(title,last_revid, last_revuser, last_revdate))\n"
   ]
  },
  {
   "cell_type": "code",
   "execution_count": 108,
   "metadata": {
    "collapsed": false
   },
   "outputs": [
    {
     "name": "stdout",
     "output_type": "stream",
     "text": [
      "{'warnings': {'query': {'*': \"Unrecognized value for parameter 'prop': allrevisions\"}, 'main': {'*': \"Unrecognized parameters: 'rvlimit', 'rvdir'\"}}, 'batchcomplete': ''}\n"
     ]
    },
    {
     "ename": "KeyError",
     "evalue": "'query'",
     "output_type": "error",
     "traceback": [
      "\u001b[1;31m---------------------------------------------------------------------------\u001b[0m",
      "\u001b[1;31mKeyError\u001b[0m                                  Traceback (most recent call last)",
      "\u001b[1;32m<ipython-input-108-df6cb393bec4>\u001b[0m in \u001b[0;36m<module>\u001b[1;34m()\u001b[0m\n\u001b[0;32m     14\u001b[0m \u001b[0mprint\u001b[0m\u001b[1;33m(\u001b[0m\u001b[0mresponse\u001b[0m\u001b[1;33m)\u001b[0m\u001b[1;33m\u001b[0m\u001b[0m\n\u001b[0;32m     15\u001b[0m \u001b[1;33m\u001b[0m\u001b[0m\n\u001b[1;32m---> 16\u001b[1;33m \u001b[0mquery\u001b[0m \u001b[1;33m=\u001b[0m \u001b[0mresponse\u001b[0m\u001b[1;33m[\u001b[0m\u001b[1;34m'query'\u001b[0m\u001b[1;33m]\u001b[0m\u001b[1;33m\u001b[0m\u001b[0m\n\u001b[0m\u001b[0;32m     17\u001b[0m \u001b[1;33m\u001b[0m\u001b[0m\n\u001b[0;32m     18\u001b[0m \u001b[0mpages\u001b[0m \u001b[1;33m=\u001b[0m \u001b[0mquery\u001b[0m\u001b[1;33m[\u001b[0m\u001b[1;34m'pages'\u001b[0m\u001b[1;33m]\u001b[0m\u001b[1;33m\u001b[0m\u001b[0m\n",
      "\u001b[1;31mKeyError\u001b[0m: 'query'"
     ]
    }
   ],
   "source": [
    "import requests\n",
    "\n",
    "ENDPOINT = 'https://en.wikipedia.org/w/api.php'\n",
    "\n",
    "parameters = { 'action' : 'query',\n",
    "               'prop' : 'allrevisions',\n",
    "               'format' : 'json',\n",
    "               'rvlimit' : 1,\n",
    "               'rvdir' : 'newer',\n",
    "               'continue' : '' }\n",
    "\n",
    "wp_call = requests.get(ENDPOINT, params=parameters)\n",
    "response = wp_call.json()\n",
    "print(response)\n",
    "\n",
    "query = response['query']\n",
    "\n",
    "pages = query['pages']\n",
    "\n",
    "\n",
    "page_keys = list(pages.keys())\n",
    "page_key = page_keys[0]\n",
    "page = pages[page_key]\n",
    "revisions = page['revisions']\n",
    "\n",
    "# we only asked for one revision\n",
    "revision = revisions[0]\n",
    "last_revision = revisions[-1]\n",
    "revid = revision['revid']\n",
    "last_revid = last_revision['revid']\n",
    "revuser = revision['user']\n",
    "last_revuser = last_revision['user']\n",
    "revdate = revision['timestamp']\n",
    "last_revdate = last_revision['timestamp']\n",
    "title = page['title']\n",
    "\n",
    "\n"
   ]
  },
  {
   "cell_type": "code",
   "execution_count": 107,
   "metadata": {
    "collapsed": false
   },
   "outputs": [
    {
     "data": {
      "text/plain": [
       "{'batchcomplete': '',\n",
       " 'warnings': {'main': {'*': \"Unrecognized parameters: 'rvlimit', 'rvdir'\"},\n",
       "  'query': {'*': \"Unrecognized value for parameter 'prop': allrevisions\"}}}"
      ]
     },
     "execution_count": 107,
     "metadata": {},
     "output_type": "execute_result"
    }
   ],
   "source": [
    "response"
   ]
  },
  {
   "cell_type": "code",
   "execution_count": 100,
   "metadata": {
    "collapsed": false
   },
   "outputs": [
    {
     "name": "stdout",
     "output_type": "stream",
     "text": [
      "First edit to Panama Papers was revision ID 713378731 by Czar on 2016-04-03T17:59:05Z\n",
      "Last edit to Panama Papers was revision ID 713378731 by revuser Czar on 2016-04-03T17:59:05Z\n"
     ]
    }
   ],
   "source": [
    "print('First edit to ' + title + ' was revision ID ' + str(revid) + ' by ' + revuser + ' on ' + revdate)\n",
    "\n",
    "print(\"Last edit to {} was revision ID {} by revuser {} on {}\".format(title,last_revid, last_revuser, last_revdate))\n",
    "\n"
   ]
  },
  {
   "cell_type": "code",
   "execution_count": 6,
   "metadata": {
    "collapsed": false
   },
   "outputs": [
    {
     "name": "stdout",
     "output_type": "stream",
     "text": [
      "Panama Papers had 387524 page views the first day\n"
     ]
    }
   ],
   "source": [
    "# Copyright (C) 2016 Ben Lewis, and Morten Wang\n",
    "# Licensed under the MIT license, see ../LICENSE\n",
    "\n",
    "import requests\n",
    "from urllib.parse import quote\n",
    "\n",
    "# Notes:\n",
    "# 1: documentation https://wikimedia.org/api/rest_v1/?doc\n",
    "# 2: there is no view data for 20160403, bug?\n",
    "\n",
    "ENDPOINT = 'https://wikimedia.org/api/rest_v1/metrics/pageviews/per-article/'\n",
    "\n",
    "wp_code = 'en.wikipedia'\n",
    "access = 'all-access'\n",
    "agents = 'all-agents'\n",
    "page_title = 'Panama Papers'\n",
    "period = 'daily'\n",
    "start_date = '20160404'\n",
    "end_date = '20160404'\n",
    "\n",
    "wp_call = requests.get(ENDPOINT + wp_code + '/' + access + '/' + agents + '/' + quote(page_title, safe='') + '/' + period + '/' + start_date + '/' + end_date)\n",
    "response = wp_call.json()\n",
    "\n",
    "print(page_title + ' had ' + str(response['items'][0]['views']) + ' page views the first day')\n"
   ]
  },
  {
   "cell_type": "markdown",
   "metadata": {},
   "source": []
  },
  {
   "cell_type": "code",
   "execution_count": 7,
   "metadata": {
    "collapsed": false
   },
   "outputs": [
    {
     "name": "stdout",
     "output_type": "stream",
     "text": [
      "Done one query, num revisions is now 10\n",
      "Done one query, num revisions is now 20\n",
      "Done one query, num revisions is now 30\n",
      "Done one query, num revisions is now 40\n",
      "Done one query, num revisions is now 50\n",
      "Done one query, num revisions is now 60\n",
      "Done one query, num revisions is now 70\n",
      "Done one query, num revisions is now 80\n",
      "Done one query, num revisions is now 90\n",
      "Done one query, num revisions is now 100\n",
      "Done one query, num revisions is now 110\n",
      "Done one query, num revisions is now 120\n",
      "Done one query, num revisions is now 130\n",
      "Done one query, num revisions is now 140\n",
      "Done one query, num revisions is now 150\n",
      "Done one query, num revisions is now 160\n",
      "Done one query, num revisions is now 170\n",
      "Done one query, num revisions is now 180\n",
      "Done one query, num revisions is now 190\n",
      "Done one query, num revisions is now 200\n",
      "Done one query, num revisions is now 210\n",
      "Done one query, num revisions is now 220\n",
      "Done one query, num revisions is now 230\n",
      "Done one query, num revisions is now 240\n",
      "Done one query, num revisions is now 250\n",
      "Done one query, num revisions is now 260\n",
      "Done one query, num revisions is now 270\n",
      "Done one query, num revisions is now 280\n",
      "Done one query, num revisions is now 290\n",
      "Done one query, num revisions is now 300\n",
      "Done one query, num revisions is now 310\n",
      "Done one query, num revisions is now 320\n",
      "Done one query, num revisions is now 330\n",
      "Done one query, num revisions is now 340\n",
      "Done one query, num revisions is now 350\n",
      "Done one query, num revisions is now 360\n",
      "Done one query, num revisions is now 370\n",
      "Done one query, num revisions is now 380\n",
      "Done one query, num revisions is now 390\n",
      "Done one query, num revisions is now 400\n",
      "Done one query, num revisions is now 410\n",
      "Done one query, num revisions is now 420\n",
      "Done one query, num revisions is now 430\n",
      "Done one query, num revisions is now 440\n",
      "Done one query, num revisions is now 450\n",
      "Done one query, num revisions is now 460\n",
      "Done one query, num revisions is now 470\n",
      "Done one query, num revisions is now 480\n",
      "Done one query, num revisions is now 490\n",
      "Done one query, num revisions is now 500\n",
      "Done one query, num revisions is now 510\n",
      "Done one query, num revisions is now 520\n",
      "Done one query, num revisions is now 530\n",
      "Done one query, num revisions is now 540\n",
      "Done one query, num revisions is now 550\n",
      "Done one query, num revisions is now 560\n",
      "Done one query, num revisions is now 570\n",
      "Done one query, num revisions is now 580\n",
      "Done one query, num revisions is now 590\n",
      "Done one query, num revisions is now 600\n",
      "Done one query, num revisions is now 607\n",
      "Panama_Papers had 607 revisions in the first 24 hours\n"
     ]
    }
   ],
   "source": [
    "# Copyright (C) 2016 Ben Lewis, and Morten Wang\n",
    "# Licensed under the MIT license, see ../LICENSE\n",
    "\n",
    "import requests\n",
    "\n",
    "ENDPOINT = 'https://en.wikipedia.org/w/api.php'\n",
    "\n",
    "parameters = { 'action' : 'query',\n",
    "               'prop' : 'revisions',\n",
    "               'titles' : 'Panama_Papers',\n",
    "               'format' : 'json',\n",
    "               'rvdir' : 'newer',\n",
    "               'rvstart': '2016-04-03T17:59:05Z',\n",
    "               'rvend' : '2016-04-04T17:59:05Z',\n",
    "               'continue' : '' }\n",
    "\n",
    "num_revisions = 0\n",
    "\n",
    "done = False\n",
    "while not done:\n",
    "    wp_call = requests.get(ENDPOINT, params=parameters)\n",
    "    response = wp_call.json()\n",
    "\n",
    "    pages = response['query']['pages']\n",
    "    \n",
    "    for page_id in pages:\n",
    "        page = pages[page_id]\n",
    "        revisions = page['revisions']\n",
    "        for revision in revisions:\n",
    "            num_revisions += 1\n",
    "\n",
    "    print('Done one query, num revisions is now ' + str(num_revisions))\n",
    "\n",
    "    if 'continue' in response:\n",
    "        parameters['continue'] = response['continue']['continue']\n",
    "        parameters['rvcontinue'] = response['continue']['rvcontinue']\n",
    "    else:\n",
    "        done = True\n",
    "\n",
    "print(parameters['titles'] + ' had ' + str(num_revisions) + ' revisions in the first 24 hours')\n"
   ]
  },
  {
   "cell_type": "code",
   "execution_count": 8,
   "metadata": {
    "collapsed": false
   },
   "outputs": [
    {
     "name": "stdout",
     "output_type": "stream",
     "text": [
      "Done one query, num revisions is now 500\n",
      "Done one query, num revisions is now 1000\n",
      "Done one query, num revisions is now 1500\n",
      "Done one query, num revisions is now 2000\n",
      "Done one query, num revisions is now 2500\n",
      "Done one query, num revisions is now 2875\n",
      "['Elinruby'] had the most edits with 411\n"
     ]
    }
   ],
   "source": [
    "# Copyright (C) 2016 Ben Lewis, and Morten Wang\n",
    "# Licensed under the MIT license, see ../LICENSE\n",
    "\n",
    "# Who made the most edits to the article?\n",
    "\n",
    "import requests\n",
    "\n",
    "ENDPOINT = 'https://en.wikipedia.org/w/api.php'\n",
    "\n",
    "parameters = { 'action' : 'query',\n",
    "               'prop' : 'revisions',\n",
    "               'titles' : 'Panama_Papers',\n",
    "               'format' : 'json',\n",
    "               'rvdir' : 'newer',\n",
    "               'rvstart': '2016-04-03T17:59:05Z',\n",
    "               'rvend' : '2016-04-23T17:59:05Z',\n",
    "               'rvlimit' : 500,\n",
    "               'continue' : '' }\n",
    "\n",
    "num_revisions = 0\n",
    "\n",
    "done = False\n",
    "user_edits = {}\n",
    "while not done:\n",
    "    wp_call = requests.get(ENDPOINT, params=parameters)\n",
    "    response = wp_call.json()\n",
    "\n",
    "    pages = response['query']['pages']\n",
    "    \n",
    "    for page_id in pages:\n",
    "        page = pages[page_id]\n",
    "        revisions = page['revisions']\n",
    "        for revision in revisions:\n",
    "            revuser = revision['user']\n",
    "            num_revisions = num_revisions + 1\n",
    "            if revuser in user_edits:\n",
    "                user_edits[revuser] = user_edits[revuser] + 1\n",
    "            else:\n",
    "                user_edits[revuser] = 1\n",
    "\n",
    "    print('Done one query, num revisions is now ' + str(num_revisions))\n",
    "\n",
    "    if 'continue' in response:\n",
    "        parameters['continue'] = response['continue']['continue']\n",
    "        parameters['rvcontinue'] = response['continue']['rvcontinue']\n",
    "    else:\n",
    "        done = True\n",
    "\n",
    "top_editors = []\n",
    "max_edits = 0\n",
    "for user in user_edits:\n",
    "    num_edits = user_edits[user]\n",
    "    if num_edits > max_edits:\n",
    "        max_edits = num_edits\n",
    "        top_editors = [user]\n",
    "    elif num_edits == max_edits:\n",
    "        top_editors.append(user)\n",
    "    else:\n",
    "        pass\n",
    "\n",
    "print(str(top_editors) + ' had the most edits with ' + str(max_edits))\n"
   ]
  },
  {
   "cell_type": "code",
   "execution_count": 9,
   "metadata": {
    "collapsed": false
   },
   "outputs": [
    {
     "name": "stdout",
     "output_type": "stream",
     "text": [
      "Done one query, num revisions is now 500\n",
      "Done one query, num revisions is now 1000\n",
      "Done one query, num revisions is now 1500\n",
      "Done one query, num revisions is now 2000\n",
      "Done one query, num revisions is now 2500\n",
      "Done one query, num revisions is now 2875\n",
      "['2016-04-03T21']Is the hour with the most edits. \n",
      "There were 89 edits during that hour.\n"
     ]
    }
   ],
   "source": [
    "# Copyright (C) 2016 Ben Lewis, and Morten Wang\n",
    "# Licensed under the MIT license, see ../LICENSE\n",
    "\n",
    "# What was the most edits per day in the first two weeks?\n",
    "\n",
    "import requests\n",
    "\n",
    "ENDPOINT = 'https://en.wikipedia.org/w/api.php'\n",
    "\n",
    "parameters = { 'action' : 'query',\n",
    "               'prop' : 'revisions',\n",
    "               'titles' : 'Panama_Papers',\n",
    "               'format' : 'json',\n",
    "               'rvdir' : 'newer',\n",
    "               'rvstart': '2016-04-03T17:59:05Z',\n",
    "               'rvend' : '2016-04-23T17:59:05Z',\n",
    "               'rvlimit' : 500,\n",
    "               'continue' : '' }\n",
    "\n",
    "num_revisions = 0\n",
    "\n",
    "done = False\n",
    "hour_edits = {}\n",
    "while not done:\n",
    "    wp_call = requests.get(ENDPOINT, params=parameters)\n",
    "    response = wp_call.json()\n",
    "\n",
    "    pages = response['query']['pages']\n",
    "    \n",
    "    for page_id in pages:\n",
    "        page = pages[page_id]\n",
    "        revisions = page['revisions']\n",
    "        for revision in revisions:\n",
    "            revday = revision['timestamp'][0:10]\n",
    "            revhour = revision['timestamp'][0:13]\n",
    "            num_revisions = num_revisions + 1\n",
    "            \n",
    "            if revhour in hour_edits:\n",
    "                hour_edits[revhour] = hour_edits[revhour] + 1\n",
    "            else:\n",
    "                hour_edits[revhour] = 1\n",
    "\n",
    "    print('Done one query, num revisions is now ' + str(num_revisions))\n",
    "\n",
    "    if 'continue' in response:\n",
    "        parameters['continue'] = response['continue']['continue']\n",
    "        parameters['rvcontinue'] = response['continue']['rvcontinue']\n",
    "    else:\n",
    "        done = True\n",
    "\n",
    "top_hours = []\n",
    "max_edits = 0\n",
    "for revhour in hour_edits:\n",
    "    num_edits = hour_edits[revhour]\n",
    "    if num_edits > max_edits:\n",
    "        max_edits = num_edits\n",
    "        top_hour = [revhour]\n",
    "    elif num_edits == max_edits:\n",
    "        top_hours.append(revhour)\n",
    "    else:\n",
    "        pass\n",
    "\n",
    "print(str(top_hour) + 'Is the hour with the most edits. ')\n",
    "print('There were ' + str(max_edits) + ' edits during that hour.')\n"
   ]
  },
  {
   "cell_type": "code",
   "execution_count": null,
   "metadata": {
    "collapsed": true
   },
   "outputs": [],
   "source": []
  }
 ],
 "metadata": {
  "kernelspec": {
   "display_name": "Python 3",
   "language": "python",
   "name": "python3"
  },
  "language_info": {
   "codemirror_mode": {
    "name": "ipython",
    "version": 3
   },
   "file_extension": ".py",
   "mimetype": "text/x-python",
   "name": "python",
   "nbconvert_exporter": "python",
   "pygments_lexer": "ipython3",
   "version": "3.4.3"
  }
 },
 "nbformat": 4,
 "nbformat_minor": 0
}
